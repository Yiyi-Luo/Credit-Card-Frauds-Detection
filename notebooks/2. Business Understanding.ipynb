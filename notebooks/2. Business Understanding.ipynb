{
 "cells": [
  {
   "cell_type": "markdown",
   "metadata": {},
   "source": [
    "# Business Understanding\n",
    "During this stage, you should take some time to understand the questions presented by the data from a busines perspective. Many of these are very general questions and they may not be as important or applicable as some other stages of this project for training purposes, but it's good practice to begin any project with a general understanding of what problems you are trying to solve.\n",
    "\n",
    "Consider the following questions and answer to the best of your ability, based on the data and project documentation."
   ]
  },
  {
   "cell_type": "markdown",
   "metadata": {},
   "source": [
    "#### What are the specific business objectives of this project? Define as precisely as possible."
   ]
  },
  {
   "cell_type": "markdown",
   "metadata": {},
   "source": [
    "To identify as many fraud transactions as possible, targeting to find the balance between precision and recall scores; \n",
    "\n",
    "Build piplines to streamline the process and make detecting frauds more automated and effective. "
   ]
  },
  {
   "cell_type": "markdown",
   "metadata": {},
   "source": [
    "#### What data are available to pursue those objectives?"
   ]
  },
  {
   "cell_type": "markdown",
   "metadata": {},
   "source": [
    "Transation ID, transaction date and time (DT), transaction amount; Product type, CVV, type, address, email, (possible) distance measure; columns with binary values and numerical ranges, some columns with boolean values."
   ]
  },
  {
   "cell_type": "markdown",
   "metadata": {},
   "source": [
    "#### What resources? (programs, libraries, etc.)"
   ]
  },
  {
   "cell_type": "markdown",
   "metadata": {},
   "source": [
    "Python, Pandas, Numpy, Scikit Learn, Keras, Matplotlib and Seaborn, SQL"
   ]
  },
  {
   "cell_type": "markdown",
   "metadata": {},
   "source": [
    "#### What are the success criteria for each of the project's objectives? Define as precisely as possible."
   ]
  },
  {
   "cell_type": "markdown",
   "metadata": {},
   "source": [
    "1. If we could effectively detect more fraud transactions and also avoid sending false alarms to the customers;\n",
    "2. If we could build the pipeline for future use and automate the detection process;"
   ]
  },
  {
   "cell_type": "markdown",
   "metadata": {},
   "source": [
    "#### Describe the data mining problem type (regression, classification, clustering, etc.)"
   ]
  },
  {
   "cell_type": "markdown",
   "metadata": {},
   "source": [
    "A classifiction problem: is it a fraud, or no?"
   ]
  },
  {
   "cell_type": "markdown",
   "metadata": {},
   "source": [
    "#### What are the specific technical goals for the project?¶"
   ]
  },
  {
   "cell_type": "markdown",
   "metadata": {},
   "source": [
    "1. Data cleaning and organizing;\n",
    "2. Developing models to effectively detect the fraud cases;\n",
    "3. Evalute the model performances and more fine tuning;"
   ]
  }
 ],
 "metadata": {
  "kernelspec": {
   "display_name": "Python 3 (ipykernel)",
   "language": "python",
   "name": "python3"
  },
  "language_info": {
   "codemirror_mode": {
    "name": "ipython",
    "version": 3
   },
   "file_extension": ".py",
   "mimetype": "text/x-python",
   "name": "python",
   "nbconvert_exporter": "python",
   "pygments_lexer": "ipython3",
   "version": "3.11.7"
  }
 },
 "nbformat": 4,
 "nbformat_minor": 4
}
